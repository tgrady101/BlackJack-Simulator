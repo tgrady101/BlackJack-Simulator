{
 "cells": [
  {
   "attachments": {},
   "cell_type": "markdown",
   "id": "eb376608",
   "metadata": {},
   "source": [
    "# **Build a Deck of Cards Contained in a Dictionary**"
   ]
  },
  {
   "cell_type": "code",
   "execution_count": 21,
   "id": "72083a3c",
   "metadata": {},
   "outputs": [],
   "source": [
    "def GenerateDeck():\n",
    "    Deck = {}\n",
    "    Suits = ['Hearts', 'Spades', 'Clovers', 'Diamonds']\n",
    "    Values = ['Two','Three','Four','Five','Six','Seven','Eight','Nine','Ten','Jack','Queen','King','Ace']\n",
    "    Suits_Values = []\n",
    "    for i in range(len(Suits)):\n",
    "        for x in range(len(Values)):\n",
    "            Suits_Values.append(Values[x] + ' of ' + Suits[i])\n",
    "        \n",
    "    BlackJack_Values = [2,3,4,5,6,7,8,9,10,10,10,10,1]\n",
    "    BlackJack_Values_Final = []\n",
    "\n",
    "    for x in range(0,4):\n",
    "        for i in range(len(BlackJack_Values)):\n",
    "            BlackJack_Values_Final.append(BlackJack_Values[i])\n",
    "    for i in range(len(BlackJack_Values_Final)):\n",
    "        Deck[Suits_Values[i]] = BlackJack_Values_Final[i]\n",
    "    \n",
    "\n",
    "\n",
    "    \n",
    "\n",
    "\n"
   ]
  },
  {
   "cell_type": "markdown",
   "id": "8c25711a",
   "metadata": {},
   "source": [
    "# **Define Logic for Playing Out Games**"
   ]
  },
  {
   "cell_type": "code",
   "execution_count": null,
   "id": "ae368426",
   "metadata": {},
   "outputs": [],
   "source": [
    "import random\n"
   ]
  }
 ],
 "metadata": {
  "kernelspec": {
   "display_name": "Python 3 (ipykernel)",
   "language": "python",
   "name": "python3"
  },
  "language_info": {
   "codemirror_mode": {
    "name": "ipython",
    "version": 3
   },
   "file_extension": ".py",
   "mimetype": "text/x-python",
   "name": "python",
   "nbconvert_exporter": "python",
   "pygments_lexer": "ipython3",
   "version": "3.9.13"
  }
 },
 "nbformat": 4,
 "nbformat_minor": 5
}
